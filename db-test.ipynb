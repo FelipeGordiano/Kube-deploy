{
 "cells": [
  {
   "cell_type": "code",
   "execution_count": 14,
   "metadata": {},
   "outputs": [
    {
     "name": "stdout",
     "output_type": "stream",
     "text": [
      "Conexão bem-sucedida ao PostgreSQL!\n"
     ]
    }
   ],
   "source": [
    "import psycopg2\n",
    "from psycopg2 import OperationalError\n",
    "\n",
    "# Configurações de conexão\n",
    "host = 'localhost'  # ou 'db' se estiver usando o nome do serviço no Docker Compose\n",
    "port = '5432'\n",
    "dbname = 'superset'\n",
    "user = 'superset'\n",
    "password = 'superset'\n",
    "\n",
    "# Função para tentar conectar ao banco de dados\n",
    "def test_postgres_connection():\n",
    "    try:\n",
    "        # Conectando ao banco de dados\n",
    "        conn = psycopg2.connect(\n",
    "            dbname=dbname,\n",
    "            user=user,\n",
    "            password=password,\n",
    "            host=host,\n",
    "            port=port\n",
    "        )\n",
    "        print(\"Conexão bem-sucedida ao PostgreSQL!\")\n",
    "        # Fechando a conexão\n",
    "        conn.close()\n",
    "    except OperationalError as e:\n",
    "        print(f\"Erro ao conectar ao PostgreSQL: {e}\")\n",
    "\n",
    "# Testar a conexão\n",
    "test_postgres_connection()\n"
   ]
  },
  {
   "cell_type": "code",
   "execution_count": 20,
   "metadata": {},
   "outputs": [
    {
     "name": "stdout",
     "output_type": "stream",
     "text": [
      "✅ Redis está disponível!\n"
     ]
    },
    {
     "data": {
      "text/plain": [
       "True"
      ]
     },
     "execution_count": 20,
     "metadata": {},
     "output_type": "execute_result"
    }
   ],
   "source": [
    "import redis\n",
    "from redis.exceptions import ConnectionError, TimeoutError\n",
    "\n",
    "def check_redis_connection(host='localhost', port=6379, db=0, password=None):\n",
    "    try:\n",
    "        # Conecta ao Redis\n",
    "        r = redis.Redis(\n",
    "            host=host,\n",
    "            port=port,\n",
    "            db=db,\n",
    "            password=password,\n",
    "            socket_connect_timeout=3  # Timeout para conexão\n",
    "        )\n",
    "\n",
    "        # Testa a conexão com o comando PING\n",
    "        if r.ping():\n",
    "            print(\"✅ Redis está disponível!\")\n",
    "            return True\n",
    "        else:\n",
    "            print(\"❌ Falha ao conectar ao Redis (ping falhou)\")\n",
    "            return False\n",
    "\n",
    "    except (ConnectionError, TimeoutError) as e:\n",
    "        print(f\"❌ Erro de conexão: {e}\")\n",
    "        return False\n",
    "    except Exception as e:\n",
    "        print(f\"❌ Erro inesperado: {e}\")\n",
    "        return False\n",
    "    finally:\n",
    "        # Fecha a conexão\n",
    "        if 'r' in locals():\n",
    "            r.close()\n",
    "\n",
    "# Testa a conexão (ajuste os parâmetros conforme necessário)\n",
    "check_redis_connection()"
   ]
  }
 ],
 "metadata": {
  "kernelspec": {
   "display_name": "base",
   "language": "python",
   "name": "python3"
  },
  "language_info": {
   "codemirror_mode": {
    "name": "ipython",
    "version": 3
   },
   "file_extension": ".py",
   "mimetype": "text/x-python",
   "name": "python",
   "nbconvert_exporter": "python",
   "pygments_lexer": "ipython3",
   "version": "3.12.2"
  }
 },
 "nbformat": 4,
 "nbformat_minor": 2
}
