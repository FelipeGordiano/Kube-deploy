{
 "cells": [
  {
   "cell_type": "code",
   "execution_count": null,
   "metadata": {},
   "outputs": [
    {
     "name": "stdout",
     "output_type": "stream",
     "text": [
      "Conexão bem-sucedida ao PostgreSQL!\n"
     ]
    }
   ],
   "source": [
    "from dotenv import load_dotenv\n",
    "import os\n",
    "import psycopg2\n",
    "from psycopg2 import OperationalError\n",
    "\n",
    "load_dotenv()\n",
    "\n",
    "host = 'localhost'\n",
    "port = '5432'\n",
    "dbname = os.getenv(\"POSTGRES_DB\")\n",
    "user = os.getenv(\"POSTGRES_USER\")\n",
    "password = os.getenv(\"POSTGRES_PASSWORD\")\n",
    "\n",
    "# Function to test database connection\n",
    "def test_postgres_connection(host, port, dbname, user, password):\n",
    "    try:\n",
    "        # Connecting to the database\n",
    "        conn = psycopg2.connect(\n",
    "            dbname=dbname,\n",
    "            user=user,\n",
    "            password=password,\n",
    "            host=host,\n",
    "            port=port\n",
    "        )\n",
    "        print(\"✅ Successfully connected to PostgreSQL!\")\n",
    "        # Closing the connection\n",
    "        conn.close()\n",
    "    except OperationalError as e:\n",
    "        print(f\"❌ Error connecting to PostgreSQL: {e}\")\n",
    "\n",
    "# Test the connection\n",
    "test_postgres_connection(host, port, dbname, user, password)"
   ]
  },
  {
   "cell_type": "code",
   "execution_count": null,
   "metadata": {},
   "outputs": [
    {
     "name": "stdout",
     "output_type": "stream",
     "text": [
      "✅ Redis está disponível!\n"
     ]
    },
    {
     "data": {
      "text/plain": [
       "True"
      ]
     },
     "execution_count": 2,
     "metadata": {},
     "output_type": "execute_result"
    }
   ],
   "source": [
    "import redis\n",
    "from redis.exceptions import ConnectionError, TimeoutError\n",
    "\n",
    "def check_redis_connection(host, port, db, password):\n",
    "    try:\n",
    "        # Connect to Redis\n",
    "        r = redis.Redis(\n",
    "            host=host,\n",
    "            port=port,\n",
    "            db=db,\n",
    "            password=password,\n",
    "            socket_connect_timeout=3  # Connection timeout\n",
    "        )\n",
    "\n",
    "        # Test connection with PING command\n",
    "        if r.ping():\n",
    "            print(\"✅ Redis is available!\")\n",
    "            return True\n",
    "        else:\n",
    "            print(\"❌ Failed to connect to Redis (ping failed)\")\n",
    "            return False\n",
    "\n",
    "    except (ConnectionError, TimeoutError) as e:\n",
    "        print(f\"❌ Connection error: {e}\")\n",
    "        return False\n",
    "    except Exception as e:\n",
    "        print(f\"❌ Unexpected error: {e}\")\n",
    "        return False\n",
    "    finally:\n",
    "        # Close connection\n",
    "        if 'r' in locals():\n",
    "            r.close()\n",
    "\n",
    "host = 'localhost'\n",
    "port = 6379\n",
    "db = 0\n",
    "password = None\n",
    "\n",
    "# Test connection (adjust parameters as needed)\n",
    "check_redis_connection(host, port, db, password)"
   ]
  }
 ],
 "metadata": {
  "kernelspec": {
   "display_name": "base",
   "language": "python",
   "name": "python3"
  },
  "language_info": {
   "codemirror_mode": {
    "name": "ipython",
    "version": 3
   },
   "file_extension": ".py",
   "mimetype": "text/x-python",
   "name": "python",
   "nbconvert_exporter": "python",
   "pygments_lexer": "ipython3",
   "version": "3.12.2"
  }
 },
 "nbformat": 4,
 "nbformat_minor": 2
}
